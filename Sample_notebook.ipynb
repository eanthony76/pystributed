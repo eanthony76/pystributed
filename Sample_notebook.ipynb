{
 "cells": [
  {
   "cell_type": "code",
   "execution_count": 1,
   "id": "35fbdaf2-bef9-47f4-b8ab-f642caa10fa4",
   "metadata": {},
   "outputs": [],
   "source": [
    "import pystributed.main as runner"
   ]
  },
  {
   "cell_type": "code",
   "execution_count": 2,
   "id": "b68382a1-ba1a-4298-a808-b42ad6257690",
   "metadata": {},
   "outputs": [],
   "source": [
    "import pandas as pd"
   ]
  },
  {
   "cell_type": "code",
   "execution_count": 3,
   "id": "229619aa-ca96-423f-8dac-3f40ad3a1b35",
   "metadata": {},
   "outputs": [
    {
     "name": "stderr",
     "output_type": "stream",
     "text": [
      "#0 building with \"default\" instance using docker driver\n",
      "\n",
      "#1 [internal] load .dockerignore\n",
      "#1 transferring context: 2B done\n",
      "#1 DONE 0.0s\n",
      "\n",
      "#2 [internal] load build definition from Dockerfile\n",
      "#2 transferring dockerfile: 271B done\n",
      "#2 DONE 0.0s\n",
      "\n",
      "#3 [internal] load metadata for docker.io/continuumio/miniconda3:latest\n",
      "#3 DONE 0.0s\n",
      "\n",
      "#4 [1/4] FROM docker.io/continuumio/miniconda3:latest\n",
      "#4 DONE 0.0s\n",
      "\n",
      "#5 [internal] load build context\n",
      "#5 transferring context: 372B done\n",
      "#5 DONE 0.0s\n",
      "\n",
      "#6 [2/4] WORKDIR /app\n",
      "#6 CACHED\n",
      "\n",
      "#7 [3/4] RUN pip install transformers pandas\n",
      "#7 CACHED\n",
      "\n",
      "#8 [4/4] COPY temp_script.py /app/temp_script.py\n",
      "#8 DONE 0.0s\n",
      "\n",
      "#9 exporting to image\n",
      "#9 exporting layers 0.0s done\n",
      "#9 writing image sha256:ff3b83689899f226afc6186de80412efa98cfb4e1aed95666a25b332d4c1e129 done\n",
      "#9 naming to docker.io/junkymcjunkface1224/distributed_images:no_gpu done\n",
      "#9 DONE 0.0s\n"
     ]
    },
    {
     "name": "stdout",
     "output_type": "stream",
     "text": [
      "The push refers to repository [docker.io/junkymcjunkface1224/distributed_images]\n",
      "55ff5619d98a: Preparing\n",
      "fcdbd712716a: Preparing\n",
      "5124cd0d7af3: Preparing\n",
      "e9127e05acf7: Preparing\n",
      "bd2802abbb8b: Preparing\n",
      "4b3ba104e9a8: Preparing\n",
      "4b3ba104e9a8: Waiting\n",
      "bd2802abbb8b: Layer already exists\n",
      "fcdbd712716a: Layer already exists\n",
      "5124cd0d7af3: Layer already exists\n",
      "e9127e05acf7: Layer already exists\n",
      "4b3ba104e9a8: Layer already exists\n",
      "55ff5619d98a: Pushed\n",
      "no_gpu: digest: sha256:19cdea72e28bfe12a3c8c06ac3191d1de7ce8bb128ade33747b44a8d406a88ba size: 1580\n",
      "no_gpu: Pulling from junkymcjunkface1224/distributed_images\n",
      "9d21b12d5fab: Already exists\n",
      "eb0f38cf74ca: Already exists\n",
      "a4686437ef41: Already exists\n",
      "d2b680afb5b6: Already exists\n",
      "58a2531fc0fa: Already exists\n",
      "de41a5940df7: Pulling fs layer\n",
      "de41a5940df7: Verifying Checksum\n",
      "de41a5940df7: Download complete\n",
      "de41a5940df7: Pull complete\n",
      "Digest: sha256:19cdea72e28bfe12a3c8c06ac3191d1de7ce8bb128ade33747b44a8d406a88ba\n",
      "Status: Downloaded newer image for junkymcjunkface1224/distributed_images:no_gpu\n",
      "docker.io/junkymcjunkface1224/distributed_images:no_gpu\n"
     ]
    }
   ],
   "source": [
    "%%save_for_remote\n",
    "import pandas as pd\n",
    "import os\n",
    "\n",
    "# Ensure the directory exists\n",
    "directory = \"/home/results\"\n",
    "if not os.path.exists(directory):\n",
    "    os.makedirs(directory)\n",
    "\n",
    "# Write to the file within the directory\n",
    "file_path = os.path.join(directory, \"file.txt\")\n",
    "\n",
    "a = 8\n",
    "b = 19\n",
    "c = a+b\n",
    "\n",
    "with open(file_path, 'w') as f:\n",
    "    f.write(str(c))\n",
    "    f.close()"
   ]
  },
  {
   "cell_type": "markdown",
   "id": "f37ce2de",
   "metadata": {},
   "source": []
  },
  {
   "cell_type": "code",
   "execution_count": null,
   "id": "3c6c030c-a881-4e43-9267-2c9f8e0e4db9",
   "metadata": {},
   "outputs": [],
   "source": []
  }
 ],
 "metadata": {
  "kernelspec": {
   "display_name": "Python 3 (ipykernel)",
   "language": "python",
   "name": "python3"
  },
  "language_info": {
   "codemirror_mode": {
    "name": "ipython",
    "version": 3
   },
   "file_extension": ".py",
   "mimetype": "text/x-python",
   "name": "python",
   "nbconvert_exporter": "python",
   "pygments_lexer": "ipython3",
   "version": "3.10.12"
  }
 },
 "nbformat": 4,
 "nbformat_minor": 5
}
